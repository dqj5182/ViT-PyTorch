{
  "nbformat": 4,
  "nbformat_minor": 0,
  "metadata": {
    "colab": {
      "name": "Pretrained Vision Transformer w/o PyTorch Lightning (1500 epoch).ipynb",
      "provenance": []
    },
    "kernelspec": {
      "name": "python3",
      "display_name": "Python 3"
    },
    "language_info": {
      "name": "python"
    },
    "accelerator": "GPU",
    "widgets": {
      "application/vnd.jupyter.widget-state+json": {
        "c76ecb7e12e04f819527a13852983f54": {
          "model_module": "@jupyter-widgets/controls",
          "model_name": "HBoxModel",
          "model_module_version": "1.5.0",
          "state": {
            "_view_name": "HBoxView",
            "_dom_classes": [],
            "_model_name": "HBoxModel",
            "_view_module": "@jupyter-widgets/controls",
            "_model_module_version": "1.5.0",
            "_view_count": null,
            "_view_module_version": "1.5.0",
            "box_style": "",
            "layout": "IPY_MODEL_7d771ddc1d7444b0ae90efdbbf292dd2",
            "_model_module": "@jupyter-widgets/controls",
            "children": [
              "IPY_MODEL_29b70ee56c8c44068c1190d656486257",
              "IPY_MODEL_01d7bd5198644ba3bcaae47254afce23",
              "IPY_MODEL_cb66e02a721245a28a355237a4fd01fd"
            ]
          }
        },
        "7d771ddc1d7444b0ae90efdbbf292dd2": {
          "model_module": "@jupyter-widgets/base",
          "model_name": "LayoutModel",
          "model_module_version": "1.2.0",
          "state": {
            "_view_name": "LayoutView",
            "grid_template_rows": null,
            "right": null,
            "justify_content": null,
            "_view_module": "@jupyter-widgets/base",
            "overflow": null,
            "_model_module_version": "1.2.0",
            "_view_count": null,
            "flex_flow": null,
            "width": null,
            "min_width": null,
            "border": null,
            "align_items": null,
            "bottom": null,
            "_model_module": "@jupyter-widgets/base",
            "top": null,
            "grid_column": null,
            "overflow_y": null,
            "overflow_x": null,
            "grid_auto_flow": null,
            "grid_area": null,
            "grid_template_columns": null,
            "flex": null,
            "_model_name": "LayoutModel",
            "justify_items": null,
            "grid_row": null,
            "max_height": null,
            "align_content": null,
            "visibility": null,
            "align_self": null,
            "height": null,
            "min_height": null,
            "padding": null,
            "grid_auto_rows": null,
            "grid_gap": null,
            "max_width": null,
            "order": null,
            "_view_module_version": "1.2.0",
            "grid_template_areas": null,
            "object_position": null,
            "object_fit": null,
            "grid_auto_columns": null,
            "margin": null,
            "display": null,
            "left": null
          }
        },
        "29b70ee56c8c44068c1190d656486257": {
          "model_module": "@jupyter-widgets/controls",
          "model_name": "HTMLModel",
          "model_module_version": "1.5.0",
          "state": {
            "_view_name": "HTMLView",
            "style": "IPY_MODEL_6f88acd35ab64053a459ff28eb5dbf50",
            "_dom_classes": [],
            "description": "",
            "_model_name": "HTMLModel",
            "placeholder": "​",
            "_view_module": "@jupyter-widgets/controls",
            "_model_module_version": "1.5.0",
            "value": "",
            "_view_count": null,
            "_view_module_version": "1.5.0",
            "description_tooltip": null,
            "_model_module": "@jupyter-widgets/controls",
            "layout": "IPY_MODEL_12712c11bb8a4cbc9a2faed00bf72e26"
          }
        },
        "01d7bd5198644ba3bcaae47254afce23": {
          "model_module": "@jupyter-widgets/controls",
          "model_name": "FloatProgressModel",
          "model_module_version": "1.5.0",
          "state": {
            "_view_name": "ProgressView",
            "style": "IPY_MODEL_d2d971079f134c8a8510e9c1afad5632",
            "_dom_classes": [],
            "description": "",
            "_model_name": "FloatProgressModel",
            "bar_style": "success",
            "max": 170498071,
            "_view_module": "@jupyter-widgets/controls",
            "_model_module_version": "1.5.0",
            "value": 170498071,
            "_view_count": null,
            "_view_module_version": "1.5.0",
            "orientation": "horizontal",
            "min": 0,
            "description_tooltip": null,
            "_model_module": "@jupyter-widgets/controls",
            "layout": "IPY_MODEL_9bc96726a91a4115bc9b11955e91c3f1"
          }
        },
        "cb66e02a721245a28a355237a4fd01fd": {
          "model_module": "@jupyter-widgets/controls",
          "model_name": "HTMLModel",
          "model_module_version": "1.5.0",
          "state": {
            "_view_name": "HTMLView",
            "style": "IPY_MODEL_88dd74fc98634c459ee55cb968f8f74e",
            "_dom_classes": [],
            "description": "",
            "_model_name": "HTMLModel",
            "placeholder": "​",
            "_view_module": "@jupyter-widgets/controls",
            "_model_module_version": "1.5.0",
            "value": " 170499072/? [00:11&lt;00:00, 18590708.99it/s]",
            "_view_count": null,
            "_view_module_version": "1.5.0",
            "description_tooltip": null,
            "_model_module": "@jupyter-widgets/controls",
            "layout": "IPY_MODEL_c51fb11f6099481281ad2ef2b837209e"
          }
        },
        "6f88acd35ab64053a459ff28eb5dbf50": {
          "model_module": "@jupyter-widgets/controls",
          "model_name": "DescriptionStyleModel",
          "model_module_version": "1.5.0",
          "state": {
            "_view_name": "StyleView",
            "_model_name": "DescriptionStyleModel",
            "description_width": "",
            "_view_module": "@jupyter-widgets/base",
            "_model_module_version": "1.5.0",
            "_view_count": null,
            "_view_module_version": "1.2.0",
            "_model_module": "@jupyter-widgets/controls"
          }
        },
        "12712c11bb8a4cbc9a2faed00bf72e26": {
          "model_module": "@jupyter-widgets/base",
          "model_name": "LayoutModel",
          "model_module_version": "1.2.0",
          "state": {
            "_view_name": "LayoutView",
            "grid_template_rows": null,
            "right": null,
            "justify_content": null,
            "_view_module": "@jupyter-widgets/base",
            "overflow": null,
            "_model_module_version": "1.2.0",
            "_view_count": null,
            "flex_flow": null,
            "width": null,
            "min_width": null,
            "border": null,
            "align_items": null,
            "bottom": null,
            "_model_module": "@jupyter-widgets/base",
            "top": null,
            "grid_column": null,
            "overflow_y": null,
            "overflow_x": null,
            "grid_auto_flow": null,
            "grid_area": null,
            "grid_template_columns": null,
            "flex": null,
            "_model_name": "LayoutModel",
            "justify_items": null,
            "grid_row": null,
            "max_height": null,
            "align_content": null,
            "visibility": null,
            "align_self": null,
            "height": null,
            "min_height": null,
            "padding": null,
            "grid_auto_rows": null,
            "grid_gap": null,
            "max_width": null,
            "order": null,
            "_view_module_version": "1.2.0",
            "grid_template_areas": null,
            "object_position": null,
            "object_fit": null,
            "grid_auto_columns": null,
            "margin": null,
            "display": null,
            "left": null
          }
        },
        "d2d971079f134c8a8510e9c1afad5632": {
          "model_module": "@jupyter-widgets/controls",
          "model_name": "ProgressStyleModel",
          "model_module_version": "1.5.0",
          "state": {
            "_view_name": "StyleView",
            "_model_name": "ProgressStyleModel",
            "description_width": "",
            "_view_module": "@jupyter-widgets/base",
            "_model_module_version": "1.5.0",
            "_view_count": null,
            "_view_module_version": "1.2.0",
            "bar_color": null,
            "_model_module": "@jupyter-widgets/controls"
          }
        },
        "9bc96726a91a4115bc9b11955e91c3f1": {
          "model_module": "@jupyter-widgets/base",
          "model_name": "LayoutModel",
          "model_module_version": "1.2.0",
          "state": {
            "_view_name": "LayoutView",
            "grid_template_rows": null,
            "right": null,
            "justify_content": null,
            "_view_module": "@jupyter-widgets/base",
            "overflow": null,
            "_model_module_version": "1.2.0",
            "_view_count": null,
            "flex_flow": null,
            "width": null,
            "min_width": null,
            "border": null,
            "align_items": null,
            "bottom": null,
            "_model_module": "@jupyter-widgets/base",
            "top": null,
            "grid_column": null,
            "overflow_y": null,
            "overflow_x": null,
            "grid_auto_flow": null,
            "grid_area": null,
            "grid_template_columns": null,
            "flex": null,
            "_model_name": "LayoutModel",
            "justify_items": null,
            "grid_row": null,
            "max_height": null,
            "align_content": null,
            "visibility": null,
            "align_self": null,
            "height": null,
            "min_height": null,
            "padding": null,
            "grid_auto_rows": null,
            "grid_gap": null,
            "max_width": null,
            "order": null,
            "_view_module_version": "1.2.0",
            "grid_template_areas": null,
            "object_position": null,
            "object_fit": null,
            "grid_auto_columns": null,
            "margin": null,
            "display": null,
            "left": null
          }
        },
        "88dd74fc98634c459ee55cb968f8f74e": {
          "model_module": "@jupyter-widgets/controls",
          "model_name": "DescriptionStyleModel",
          "model_module_version": "1.5.0",
          "state": {
            "_view_name": "StyleView",
            "_model_name": "DescriptionStyleModel",
            "description_width": "",
            "_view_module": "@jupyter-widgets/base",
            "_model_module_version": "1.5.0",
            "_view_count": null,
            "_view_module_version": "1.2.0",
            "_model_module": "@jupyter-widgets/controls"
          }
        },
        "c51fb11f6099481281ad2ef2b837209e": {
          "model_module": "@jupyter-widgets/base",
          "model_name": "LayoutModel",
          "model_module_version": "1.2.0",
          "state": {
            "_view_name": "LayoutView",
            "grid_template_rows": null,
            "right": null,
            "justify_content": null,
            "_view_module": "@jupyter-widgets/base",
            "overflow": null,
            "_model_module_version": "1.2.0",
            "_view_count": null,
            "flex_flow": null,
            "width": null,
            "min_width": null,
            "border": null,
            "align_items": null,
            "bottom": null,
            "_model_module": "@jupyter-widgets/base",
            "top": null,
            "grid_column": null,
            "overflow_y": null,
            "overflow_x": null,
            "grid_auto_flow": null,
            "grid_area": null,
            "grid_template_columns": null,
            "flex": null,
            "_model_name": "LayoutModel",
            "justify_items": null,
            "grid_row": null,
            "max_height": null,
            "align_content": null,
            "visibility": null,
            "align_self": null,
            "height": null,
            "min_height": null,
            "padding": null,
            "grid_auto_rows": null,
            "grid_gap": null,
            "max_width": null,
            "order": null,
            "_view_module_version": "1.2.0",
            "grid_template_areas": null,
            "object_position": null,
            "object_fit": null,
            "grid_auto_columns": null,
            "margin": null,
            "display": null,
            "left": null
          }
        }
      }
    }
  },
  "cells": [
    {
      "cell_type": "code",
      "execution_count": 1,
      "metadata": {
        "colab": {
          "base_uri": "https://localhost:8080/"
        },
        "id": "FLPnweNg-Hyw",
        "outputId": "8dadd403-5381-46a4-d945-747f75235435"
      },
      "outputs": [
        {
          "output_type": "stream",
          "name": "stdout",
          "text": [
            "Drive already mounted at /content/drive; to attempt to forcibly remount, call drive.mount(\"/content/drive\", force_remount=True).\n"
          ]
        }
      ],
      "source": [
        "# Connecting and Mounting to the Google Drive\n",
        "from google.colab import drive\n",
        "drive.mount('/content/drive')"
      ]
    },
    {
      "cell_type": "code",
      "source": [
        "PATH = '/content/drive/MyDrive/vit_regular.pth'"
      ],
      "metadata": {
        "id": "oqq_WYKo-VgZ"
      },
      "execution_count": 2,
      "outputs": []
    },
    {
      "cell_type": "code",
      "source": [
        "import torch"
      ],
      "metadata": {
        "id": "MCP_xVjy30ut"
      },
      "execution_count": 3,
      "outputs": []
    },
    {
      "cell_type": "markdown",
      "source": [
        "# Vision Transformer"
      ],
      "metadata": {
        "id": "ZZIflLG8_nMX"
      }
    },
    {
      "cell_type": "code",
      "source": [
        "import torch\n",
        "import torch.nn as nn\n",
        "import torch.nn.functional as F\n",
        "import torchsummary\n",
        "\n",
        "\n",
        "class PatchEmbedding(nn.Module): # Done\n",
        "    \"\"\"\n",
        "    img_size: 1d size of each image (32 for CIFAR-10)\n",
        "    patch_size: 1d size of each patch (img_size/num_patch_1d, 4 in this experiment)\n",
        "    in_chans: input channel (3 for RGB images)\n",
        "    emb_dim: flattened length for each token (or patch)\n",
        "    \"\"\"\n",
        "    def __init__(self, img_size:int, patch_size:int, in_chans:int=3, emb_dim:int=48):\n",
        "        super(PatchEmbedding, self).__init__()\n",
        "        self.img_size = img_size\n",
        "        self.patch_size = patch_size\n",
        "\n",
        "        self.proj = nn.Conv2d(\n",
        "            in_chans, \n",
        "            emb_dim, \n",
        "            kernel_size = patch_size, \n",
        "            stride = patch_size\n",
        "        )\n",
        "\n",
        "    def forward(self, x):\n",
        "        with torch.no_grad():\n",
        "            # x: [batch, in_chans, img_size, img_size]\n",
        "            x = self.proj(x) # [batch, embed_dim, # of patches in a row, # of patches in a col], [batch, 48, 8, 8] in this experiment\n",
        "            x = x.flatten(2) # [batch, embed_dim, total # of patches], [batch, 48, 64] in this experiment\n",
        "            x = x.transpose(1, 2) # [batch, total # of patches, emb_dim] => Transformer encoder requires this dimensions [batch, number of words, word_emb_dim]\n",
        "        return x\n",
        "\n",
        "\n",
        "class TransformerEncoder(nn.Module): # Done\n",
        "    def __init__(self, input_dim:int, mlp_hidden_dim:int, num_head:int=8, dropout:float=0.):\n",
        "        # input_dim and head for Multi-Head Attention\n",
        "        super(TransformerEncoder, self).__init__()\n",
        "        self.norm1 = nn.LayerNorm(input_dim) # LayerNorm is BatchNorm for NLP\n",
        "        self.msa = MultiHeadSelfAttention(input_dim, n_heads=num_head)\n",
        "        self.norm2 = nn.LayerNorm(input_dim)\n",
        "        # Position-wise Feed-Forward Networks with GELU activation functions\n",
        "        self.mlp = nn.Sequential(\n",
        "            nn.Linear(input_dim, mlp_hidden_dim),\n",
        "            nn.GELU(),\n",
        "            nn.Linear(mlp_hidden_dim, input_dim),\n",
        "            nn.GELU(),\n",
        "        )\n",
        "\n",
        "    def forward(self, x):\n",
        "        out = self.msa(self.norm1(x)) + x # add residual connection\n",
        "        out = self.mlp(self.norm2(out)) + out # add another residual connection\n",
        "        return out\n",
        "\n",
        "\n",
        "class MultiHeadSelfAttention(nn.Module):\n",
        "    \"\"\"\n",
        "    dim: dimension of input and out per token features (emb dim for tokens)\n",
        "    n_heads: number of heads\n",
        "    qkv_bias: whether to have bias in qkv linear layers\n",
        "    attn_p: dropout probability for attention\n",
        "    proj_p: droupout probability last linear layer\n",
        "    scale: scaling factor for attention (1/sqrt(dk))\n",
        "    qkv: initial linear layer for the query, key, and value\n",
        "    proj: last linear layer\n",
        "    attn_drop, proj_drop: dropout layers for attn and proj\n",
        "    \"\"\"\n",
        "    def __init__(self, dim:int, n_heads:int=8, qkv_bias:bool=True, attn_p:float=0.01, proj_p:float=0.01):\n",
        "        super(MultiHeadSelfAttention, self).__init__()\n",
        "        self.n_heads = n_heads\n",
        "        self.dim = dim # embedding dimension for input\n",
        "        self.head_dim = dim // n_heads # d_q, d_k, d_v in the paper (int div needed to preserve input dim = output dim)\n",
        "        self.scale = self.head_dim ** -0.5 # 1/sqrt(d_k)\n",
        "\n",
        "        self.qkv = nn.Linear(dim, dim*3, bias=qkv_bias) # lower linear layers in Figure 2 of the paper\n",
        "        self.attn_drop = nn.Dropout(attn_p)\n",
        "        self.proj = nn.Linear(dim, dim) # upper linear layers in Figure 2 of the paper\n",
        "        self.proj_drop = nn.Dropout(proj_p)\n",
        "    \n",
        "    def forward(self, x):\n",
        "        \"\"\"\n",
        "        Input and Output shape: [batch_size, n_patches + 1, dim]\n",
        "        \"\"\"\n",
        "        batch_size, n_tokens, x_dim = x.shape # n_tokens = n_patches + 1 (1 is cls_token), x_dim is input dim\n",
        "\n",
        "        # Sanity Check\n",
        "        if x_dim != self.dim: # make sure input dim is same as concatnated dim (output dim)\n",
        "            raise ValueError\n",
        "        if self.dim != self.head_dim*self.n_heads: # make sure dim is divisible by n_heads\n",
        "            raise ValueError(f\"Input & Output dim should be divisible by Number of Heads\")\n",
        "        \n",
        "        # Linear Layers for Query, Key, Value\n",
        "        qkv = self.qkv(x) # (batch_size, n_patches+1, 3*dim)\n",
        "        qkv = qkv.reshape(batch_size, n_tokens, 3, self.n_heads, self.head_dim) # (batch_size, n_patches+1, 3, n_heads, head_dim)\n",
        "        qkv = qkv.permute(2, 0, 3, 1, 4) # (3, batch_size, n_heads, n_patches+1, head_dim)\n",
        "        q, k, v = qkv[0], qkv[1], qkv[2] # (batch_size, n_heads, n_patches+1, head_dim)\n",
        "\n",
        "        # Scaled Dot-Product Attention\n",
        "        k_t = k.transpose(-2, -1) # K Transpose: (batch_size, n_heads, head_dim, n_patches+1)\n",
        "        dot_product = (q @ k_t)*self.scale # Query, Key Dot Product with Scale Factor: (batch_size, n_heads, n_patches+1, n_patches+1)\n",
        "        attn = dot_product.softmax(dim=-1) # Softmax: (batch_size, n_heads, n_patches+1, n_patches+1)\n",
        "        attn = self.attn_drop(attn) # Attention Dropout: (batch_size, n_heads, n_patches+1, n_patches+1)\n",
        "        weighted_avg = attn @ v # (batch_size, n_heads, n_patches+1, head_dim)\n",
        "        weighted_avg = weighted_avg.transpose(1, 2) # (batch_size, n_patches+1, n_heads, head_dim)\n",
        "\n",
        "        # Concat and Last Linear Layer\n",
        "        weighted_avg = weighted_avg.flatten(2) # Concat: (batch_size, n_patches+1, dim)\n",
        "        x = self.proj(weighted_avg) # Last Linear Layer: (batch_size, n_patches+1, dim)\n",
        "        x = self.proj_drop(x) # Last Linear Layer Dropout: (batch_size, n_patches+1, dim)\n",
        "\n",
        "        return x"
      ],
      "metadata": {
        "id": "5o4-UxnS-3oa"
      },
      "execution_count": 4,
      "outputs": []
    },
    {
      "cell_type": "code",
      "source": [
        "import torch\n",
        "import torch.nn as nn\n",
        "import torchsummary\n",
        "\n",
        "class ViT(nn.Module): # Done\n",
        "    def __init__(self, in_c:int=3, num_classes:int=10, img_size:int=32, num_patch_1d:int=8, dropout:float=0., num_enc_layers:int=7, hidden_dim:int=384, mlp_hidden_dim:int=384*4, num_head:int=8, is_cls_token:bool=True):\n",
        "        super(ViT, self).__init__()\n",
        "        \"\"\"\n",
        "        is_cls_token: are we using class token?\n",
        "        num_patch_1d: number of patches in one row (or col), 3 in Figure 1 of the paper, 8 in this experiment\n",
        "        patch_size: # 1d size (size of row or col) of each patch, 16 for ImageNet in the paper, 4 in this experiment\n",
        "        flattened_patch_dim: Flattened vec length for each patch (4 x 4 x 3, each side is 4 and 3 color scheme), 48 in this experiment\n",
        "        num_tokens: number of total patches + 1 (class token), 10 in Figure 1 of the paper, 65 in this experiment\n",
        "        \"\"\"\n",
        "        self.is_cls_token = is_cls_token\n",
        "        self.num_patch_1d = num_patch_1d\n",
        "        self.patch_size = img_size//self.num_patch_1d\n",
        "        flattened_patch_dim = (img_size//self.num_patch_1d)**2*3\n",
        "        num_tokens = (self.num_patch_1d**2)+1 if self.is_cls_token else (self.num_patch_1d**2)\n",
        "\n",
        "        # Divide each image into patches\n",
        "        self.images_to_patches = PatchEmbedding(\n",
        "                                    img_size=img_size, \n",
        "                                    patch_size=img_size//num_patch_1d\n",
        "                                )\n",
        "\n",
        "        # Linear Projection of Flattened Patches\n",
        "        self.lpfp = nn.Linear(flattened_patch_dim, hidden_dim) # 48 x 384 (384 is the latent vector size D in the paper)\n",
        "\n",
        "        # Patch + Position Embedding (Learnable)\n",
        "        self.cls_token = nn.Parameter(torch.randn(1, 1, hidden_dim)) if is_cls_token else None # learnable classification token with dim [1, 1, 384]. 1 in 2nd dim because there is only one class per each image not each patch\n",
        "        self.pos_emb = nn.Parameter(torch.randn(1, num_tokens, hidden_dim)) # learnable positional embedding with dim [1, 65, 384]\n",
        "        \n",
        "        # Transformer Encoder\n",
        "        enc_list = [TransformerEncoder(hidden_dim, mlp_hidden_dim=mlp_hidden_dim, dropout=dropout, num_head=num_head) for _ in range(num_enc_layers)] # num_enc_layers is L in Transformer Encoder at Figure 1\n",
        "        self.enc = nn.Sequential(*enc_list) # * should be adeed if given regular python list to nn.Sequential\n",
        "        \n",
        "        # MLP Head (Standard Classifier)\n",
        "        self.mlp_head = nn.Sequential(\n",
        "            nn.LayerNorm(hidden_dim),\n",
        "            nn.Linear(hidden_dim, num_classes)\n",
        "        )\n",
        "\n",
        "    def forward(self, x): # x: [batch, 3, 32, 32]\n",
        "        # Images into Patches (including flattening)\n",
        "        out = self.images_to_patches(x) # [batch, 64, 48]\n",
        "\n",
        "        # Linear Projection on Flattened Patches\n",
        "        out = self.lpfp(out) # [batch, 64, 384]\n",
        "\n",
        "        # Add Class Token and Positional Embedding\n",
        "        if self.is_cls_token: \n",
        "            out = torch.cat([self.cls_token.repeat(out.size(0),1,1), out], dim=1) # [batch, 65, 384], added as extra learnable embedding\n",
        "        out = out + self.pos_emb # [batch, 65, 384]\n",
        "\n",
        "        # Transformer Encoder\n",
        "        out = self.enc(out) # [batch, 65, 384]\n",
        "        if self.is_cls_token:\n",
        "            out = out[:,0] # [batch, 384]\n",
        "        else:\n",
        "            out = out.mean(1)\n",
        "\n",
        "        # MLP Head\n",
        "        out = self.mlp_head(out) # [batch, 10]\n",
        "        return out"
      ],
      "metadata": {
        "id": "AYGIcSjM5hqy"
      },
      "execution_count": 5,
      "outputs": []
    },
    {
      "cell_type": "markdown",
      "source": [
        "# Load state dict using .pth file"
      ],
      "metadata": {
        "id": "tbTjUpV__r9G"
      }
    },
    {
      "cell_type": "code",
      "source": [
        "state_dict = torch.load(PATH)\n",
        "\n",
        "for key in list(state_dict.keys()):\n",
        "    state_dict[key.replace('model.', '')] = state_dict.pop(key)"
      ],
      "metadata": {
        "id": "Ka9HJhINGEMI"
      },
      "execution_count": 6,
      "outputs": []
    },
    {
      "cell_type": "code",
      "source": [
        "model = ViT(\n",
        "          3, \n",
        "          10, \n",
        "          32, \n",
        "          8, \n",
        "          0.0, \n",
        "          7,\n",
        "          384,\n",
        "          384,\n",
        "          12,\n",
        "          True\n",
        "          )\n",
        "model.load_state_dict(state_dict)\n",
        "model.eval()"
      ],
      "metadata": {
        "colab": {
          "base_uri": "https://localhost:8080/"
        },
        "id": "P3O5NQgv-b07",
        "outputId": "cf68ebee-4dc8-490a-8353-dd8213530700"
      },
      "execution_count": 7,
      "outputs": [
        {
          "output_type": "execute_result",
          "data": {
            "text/plain": [
              "ViT(\n",
              "  (images_to_patches): PatchEmbedding(\n",
              "    (proj): Conv2d(3, 48, kernel_size=(4, 4), stride=(4, 4))\n",
              "  )\n",
              "  (lpfp): Linear(in_features=48, out_features=384, bias=True)\n",
              "  (enc): Sequential(\n",
              "    (0): TransformerEncoder(\n",
              "      (norm1): LayerNorm((384,), eps=1e-05, elementwise_affine=True)\n",
              "      (msa): MultiHeadSelfAttention(\n",
              "        (qkv): Linear(in_features=384, out_features=1152, bias=True)\n",
              "        (attn_drop): Dropout(p=0.01, inplace=False)\n",
              "        (proj): Linear(in_features=384, out_features=384, bias=True)\n",
              "        (proj_drop): Dropout(p=0.01, inplace=False)\n",
              "      )\n",
              "      (norm2): LayerNorm((384,), eps=1e-05, elementwise_affine=True)\n",
              "      (mlp): Sequential(\n",
              "        (0): Linear(in_features=384, out_features=384, bias=True)\n",
              "        (1): GELU()\n",
              "        (2): Linear(in_features=384, out_features=384, bias=True)\n",
              "        (3): GELU()\n",
              "      )\n",
              "    )\n",
              "    (1): TransformerEncoder(\n",
              "      (norm1): LayerNorm((384,), eps=1e-05, elementwise_affine=True)\n",
              "      (msa): MultiHeadSelfAttention(\n",
              "        (qkv): Linear(in_features=384, out_features=1152, bias=True)\n",
              "        (attn_drop): Dropout(p=0.01, inplace=False)\n",
              "        (proj): Linear(in_features=384, out_features=384, bias=True)\n",
              "        (proj_drop): Dropout(p=0.01, inplace=False)\n",
              "      )\n",
              "      (norm2): LayerNorm((384,), eps=1e-05, elementwise_affine=True)\n",
              "      (mlp): Sequential(\n",
              "        (0): Linear(in_features=384, out_features=384, bias=True)\n",
              "        (1): GELU()\n",
              "        (2): Linear(in_features=384, out_features=384, bias=True)\n",
              "        (3): GELU()\n",
              "      )\n",
              "    )\n",
              "    (2): TransformerEncoder(\n",
              "      (norm1): LayerNorm((384,), eps=1e-05, elementwise_affine=True)\n",
              "      (msa): MultiHeadSelfAttention(\n",
              "        (qkv): Linear(in_features=384, out_features=1152, bias=True)\n",
              "        (attn_drop): Dropout(p=0.01, inplace=False)\n",
              "        (proj): Linear(in_features=384, out_features=384, bias=True)\n",
              "        (proj_drop): Dropout(p=0.01, inplace=False)\n",
              "      )\n",
              "      (norm2): LayerNorm((384,), eps=1e-05, elementwise_affine=True)\n",
              "      (mlp): Sequential(\n",
              "        (0): Linear(in_features=384, out_features=384, bias=True)\n",
              "        (1): GELU()\n",
              "        (2): Linear(in_features=384, out_features=384, bias=True)\n",
              "        (3): GELU()\n",
              "      )\n",
              "    )\n",
              "    (3): TransformerEncoder(\n",
              "      (norm1): LayerNorm((384,), eps=1e-05, elementwise_affine=True)\n",
              "      (msa): MultiHeadSelfAttention(\n",
              "        (qkv): Linear(in_features=384, out_features=1152, bias=True)\n",
              "        (attn_drop): Dropout(p=0.01, inplace=False)\n",
              "        (proj): Linear(in_features=384, out_features=384, bias=True)\n",
              "        (proj_drop): Dropout(p=0.01, inplace=False)\n",
              "      )\n",
              "      (norm2): LayerNorm((384,), eps=1e-05, elementwise_affine=True)\n",
              "      (mlp): Sequential(\n",
              "        (0): Linear(in_features=384, out_features=384, bias=True)\n",
              "        (1): GELU()\n",
              "        (2): Linear(in_features=384, out_features=384, bias=True)\n",
              "        (3): GELU()\n",
              "      )\n",
              "    )\n",
              "    (4): TransformerEncoder(\n",
              "      (norm1): LayerNorm((384,), eps=1e-05, elementwise_affine=True)\n",
              "      (msa): MultiHeadSelfAttention(\n",
              "        (qkv): Linear(in_features=384, out_features=1152, bias=True)\n",
              "        (attn_drop): Dropout(p=0.01, inplace=False)\n",
              "        (proj): Linear(in_features=384, out_features=384, bias=True)\n",
              "        (proj_drop): Dropout(p=0.01, inplace=False)\n",
              "      )\n",
              "      (norm2): LayerNorm((384,), eps=1e-05, elementwise_affine=True)\n",
              "      (mlp): Sequential(\n",
              "        (0): Linear(in_features=384, out_features=384, bias=True)\n",
              "        (1): GELU()\n",
              "        (2): Linear(in_features=384, out_features=384, bias=True)\n",
              "        (3): GELU()\n",
              "      )\n",
              "    )\n",
              "    (5): TransformerEncoder(\n",
              "      (norm1): LayerNorm((384,), eps=1e-05, elementwise_affine=True)\n",
              "      (msa): MultiHeadSelfAttention(\n",
              "        (qkv): Linear(in_features=384, out_features=1152, bias=True)\n",
              "        (attn_drop): Dropout(p=0.01, inplace=False)\n",
              "        (proj): Linear(in_features=384, out_features=384, bias=True)\n",
              "        (proj_drop): Dropout(p=0.01, inplace=False)\n",
              "      )\n",
              "      (norm2): LayerNorm((384,), eps=1e-05, elementwise_affine=True)\n",
              "      (mlp): Sequential(\n",
              "        (0): Linear(in_features=384, out_features=384, bias=True)\n",
              "        (1): GELU()\n",
              "        (2): Linear(in_features=384, out_features=384, bias=True)\n",
              "        (3): GELU()\n",
              "      )\n",
              "    )\n",
              "    (6): TransformerEncoder(\n",
              "      (norm1): LayerNorm((384,), eps=1e-05, elementwise_affine=True)\n",
              "      (msa): MultiHeadSelfAttention(\n",
              "        (qkv): Linear(in_features=384, out_features=1152, bias=True)\n",
              "        (attn_drop): Dropout(p=0.01, inplace=False)\n",
              "        (proj): Linear(in_features=384, out_features=384, bias=True)\n",
              "        (proj_drop): Dropout(p=0.01, inplace=False)\n",
              "      )\n",
              "      (norm2): LayerNorm((384,), eps=1e-05, elementwise_affine=True)\n",
              "      (mlp): Sequential(\n",
              "        (0): Linear(in_features=384, out_features=384, bias=True)\n",
              "        (1): GELU()\n",
              "        (2): Linear(in_features=384, out_features=384, bias=True)\n",
              "        (3): GELU()\n",
              "      )\n",
              "    )\n",
              "  )\n",
              "  (mlp_head): Sequential(\n",
              "    (0): LayerNorm((384,), eps=1e-05, elementwise_affine=True)\n",
              "    (1): Linear(in_features=384, out_features=10, bias=True)\n",
              "  )\n",
              ")"
            ]
          },
          "metadata": {},
          "execution_count": 7
        }
      ]
    },
    {
      "cell_type": "markdown",
      "source": [
        "# Get the Test Loader"
      ],
      "metadata": {
        "id": "mmg5maV5ABS-"
      }
    },
    {
      "cell_type": "code",
      "source": [
        "import torchvision\n",
        "from torchvision import transforms\n",
        "from torch.utils.data.dataloader import DataLoader\n",
        "\n",
        "transform = transforms.Compose([\n",
        "        transforms.ToTensor(),\n",
        "        transforms.Normalize((0.4914, 0.4822, 0.4465), (0.2470, 0.2435, 0.2616)),\n",
        "        ])\n",
        "\n",
        "batch_size = 1024\n",
        "\n",
        "testset = torchvision.datasets.CIFAR10(root='./data', train=False,\n",
        "                                       download=True, transform=transform)\n",
        "testloader = torch.utils.data.DataLoader(testset, batch_size=batch_size,\n",
        "                                         shuffle=False, num_workers=0)"
      ],
      "metadata": {
        "colab": {
          "base_uri": "https://localhost:8080/",
          "height": 84,
          "referenced_widgets": [
            "c76ecb7e12e04f819527a13852983f54",
            "7d771ddc1d7444b0ae90efdbbf292dd2",
            "29b70ee56c8c44068c1190d656486257",
            "01d7bd5198644ba3bcaae47254afce23",
            "cb66e02a721245a28a355237a4fd01fd",
            "6f88acd35ab64053a459ff28eb5dbf50",
            "12712c11bb8a4cbc9a2faed00bf72e26",
            "d2d971079f134c8a8510e9c1afad5632",
            "9bc96726a91a4115bc9b11955e91c3f1",
            "88dd74fc98634c459ee55cb968f8f74e",
            "c51fb11f6099481281ad2ef2b837209e"
          ]
        },
        "id": "9VwZV6fVAAoZ",
        "outputId": "1b0060fb-4f11-4b1d-88e5-10cdad342a6f"
      },
      "execution_count": 8,
      "outputs": [
        {
          "output_type": "stream",
          "name": "stdout",
          "text": [
            "Downloading https://www.cs.toronto.edu/~kriz/cifar-10-python.tar.gz to ./data/cifar-10-python.tar.gz\n"
          ]
        },
        {
          "output_type": "display_data",
          "data": {
            "application/vnd.jupyter.widget-view+json": {
              "model_id": "c76ecb7e12e04f819527a13852983f54",
              "version_minor": 0,
              "version_major": 2
            },
            "text/plain": [
              "  0%|          | 0/170498071 [00:00<?, ?it/s]"
            ]
          },
          "metadata": {}
        },
        {
          "output_type": "stream",
          "name": "stdout",
          "text": [
            "Extracting ./data/cifar-10-python.tar.gz to ./data\n"
          ]
        }
      ]
    },
    {
      "cell_type": "code",
      "source": [
        "classes = ('plane', 'car', 'bird', 'cat',\n",
        "           'deer', 'dog', 'frog', 'horse', 'ship', 'truck')"
      ],
      "metadata": {
        "id": "2bWCGB6cBHcM"
      },
      "execution_count": 9,
      "outputs": []
    },
    {
      "cell_type": "markdown",
      "source": [
        "# Test the model"
      ],
      "metadata": {
        "id": "rJXXmBOz_1Z2"
      }
    },
    {
      "cell_type": "code",
      "source": [
        "def evaluate(model, val_loader):\n",
        "    outputs = [model.validation_step(batch) for batch in val_loader]\n",
        "    return model.validation_epoch_end(outputs)"
      ],
      "metadata": {
        "id": "qcJR-kr0_lu1"
      },
      "execution_count": 10,
      "outputs": []
    },
    {
      "cell_type": "code",
      "source": [
        "model.cuda()"
      ],
      "metadata": {
        "colab": {
          "base_uri": "https://localhost:8080/"
        },
        "id": "irHtOsKd_253",
        "outputId": "f4f928d4-37c3-4f6c-a430-0565562aac8d"
      },
      "execution_count": 11,
      "outputs": [
        {
          "output_type": "execute_result",
          "data": {
            "text/plain": [
              "ViT(\n",
              "  (images_to_patches): PatchEmbedding(\n",
              "    (proj): Conv2d(3, 48, kernel_size=(4, 4), stride=(4, 4))\n",
              "  )\n",
              "  (lpfp): Linear(in_features=48, out_features=384, bias=True)\n",
              "  (enc): Sequential(\n",
              "    (0): TransformerEncoder(\n",
              "      (norm1): LayerNorm((384,), eps=1e-05, elementwise_affine=True)\n",
              "      (msa): MultiHeadSelfAttention(\n",
              "        (qkv): Linear(in_features=384, out_features=1152, bias=True)\n",
              "        (attn_drop): Dropout(p=0.01, inplace=False)\n",
              "        (proj): Linear(in_features=384, out_features=384, bias=True)\n",
              "        (proj_drop): Dropout(p=0.01, inplace=False)\n",
              "      )\n",
              "      (norm2): LayerNorm((384,), eps=1e-05, elementwise_affine=True)\n",
              "      (mlp): Sequential(\n",
              "        (0): Linear(in_features=384, out_features=384, bias=True)\n",
              "        (1): GELU()\n",
              "        (2): Linear(in_features=384, out_features=384, bias=True)\n",
              "        (3): GELU()\n",
              "      )\n",
              "    )\n",
              "    (1): TransformerEncoder(\n",
              "      (norm1): LayerNorm((384,), eps=1e-05, elementwise_affine=True)\n",
              "      (msa): MultiHeadSelfAttention(\n",
              "        (qkv): Linear(in_features=384, out_features=1152, bias=True)\n",
              "        (attn_drop): Dropout(p=0.01, inplace=False)\n",
              "        (proj): Linear(in_features=384, out_features=384, bias=True)\n",
              "        (proj_drop): Dropout(p=0.01, inplace=False)\n",
              "      )\n",
              "      (norm2): LayerNorm((384,), eps=1e-05, elementwise_affine=True)\n",
              "      (mlp): Sequential(\n",
              "        (0): Linear(in_features=384, out_features=384, bias=True)\n",
              "        (1): GELU()\n",
              "        (2): Linear(in_features=384, out_features=384, bias=True)\n",
              "        (3): GELU()\n",
              "      )\n",
              "    )\n",
              "    (2): TransformerEncoder(\n",
              "      (norm1): LayerNorm((384,), eps=1e-05, elementwise_affine=True)\n",
              "      (msa): MultiHeadSelfAttention(\n",
              "        (qkv): Linear(in_features=384, out_features=1152, bias=True)\n",
              "        (attn_drop): Dropout(p=0.01, inplace=False)\n",
              "        (proj): Linear(in_features=384, out_features=384, bias=True)\n",
              "        (proj_drop): Dropout(p=0.01, inplace=False)\n",
              "      )\n",
              "      (norm2): LayerNorm((384,), eps=1e-05, elementwise_affine=True)\n",
              "      (mlp): Sequential(\n",
              "        (0): Linear(in_features=384, out_features=384, bias=True)\n",
              "        (1): GELU()\n",
              "        (2): Linear(in_features=384, out_features=384, bias=True)\n",
              "        (3): GELU()\n",
              "      )\n",
              "    )\n",
              "    (3): TransformerEncoder(\n",
              "      (norm1): LayerNorm((384,), eps=1e-05, elementwise_affine=True)\n",
              "      (msa): MultiHeadSelfAttention(\n",
              "        (qkv): Linear(in_features=384, out_features=1152, bias=True)\n",
              "        (attn_drop): Dropout(p=0.01, inplace=False)\n",
              "        (proj): Linear(in_features=384, out_features=384, bias=True)\n",
              "        (proj_drop): Dropout(p=0.01, inplace=False)\n",
              "      )\n",
              "      (norm2): LayerNorm((384,), eps=1e-05, elementwise_affine=True)\n",
              "      (mlp): Sequential(\n",
              "        (0): Linear(in_features=384, out_features=384, bias=True)\n",
              "        (1): GELU()\n",
              "        (2): Linear(in_features=384, out_features=384, bias=True)\n",
              "        (3): GELU()\n",
              "      )\n",
              "    )\n",
              "    (4): TransformerEncoder(\n",
              "      (norm1): LayerNorm((384,), eps=1e-05, elementwise_affine=True)\n",
              "      (msa): MultiHeadSelfAttention(\n",
              "        (qkv): Linear(in_features=384, out_features=1152, bias=True)\n",
              "        (attn_drop): Dropout(p=0.01, inplace=False)\n",
              "        (proj): Linear(in_features=384, out_features=384, bias=True)\n",
              "        (proj_drop): Dropout(p=0.01, inplace=False)\n",
              "      )\n",
              "      (norm2): LayerNorm((384,), eps=1e-05, elementwise_affine=True)\n",
              "      (mlp): Sequential(\n",
              "        (0): Linear(in_features=384, out_features=384, bias=True)\n",
              "        (1): GELU()\n",
              "        (2): Linear(in_features=384, out_features=384, bias=True)\n",
              "        (3): GELU()\n",
              "      )\n",
              "    )\n",
              "    (5): TransformerEncoder(\n",
              "      (norm1): LayerNorm((384,), eps=1e-05, elementwise_affine=True)\n",
              "      (msa): MultiHeadSelfAttention(\n",
              "        (qkv): Linear(in_features=384, out_features=1152, bias=True)\n",
              "        (attn_drop): Dropout(p=0.01, inplace=False)\n",
              "        (proj): Linear(in_features=384, out_features=384, bias=True)\n",
              "        (proj_drop): Dropout(p=0.01, inplace=False)\n",
              "      )\n",
              "      (norm2): LayerNorm((384,), eps=1e-05, elementwise_affine=True)\n",
              "      (mlp): Sequential(\n",
              "        (0): Linear(in_features=384, out_features=384, bias=True)\n",
              "        (1): GELU()\n",
              "        (2): Linear(in_features=384, out_features=384, bias=True)\n",
              "        (3): GELU()\n",
              "      )\n",
              "    )\n",
              "    (6): TransformerEncoder(\n",
              "      (norm1): LayerNorm((384,), eps=1e-05, elementwise_affine=True)\n",
              "      (msa): MultiHeadSelfAttention(\n",
              "        (qkv): Linear(in_features=384, out_features=1152, bias=True)\n",
              "        (attn_drop): Dropout(p=0.01, inplace=False)\n",
              "        (proj): Linear(in_features=384, out_features=384, bias=True)\n",
              "        (proj_drop): Dropout(p=0.01, inplace=False)\n",
              "      )\n",
              "      (norm2): LayerNorm((384,), eps=1e-05, elementwise_affine=True)\n",
              "      (mlp): Sequential(\n",
              "        (0): Linear(in_features=384, out_features=384, bias=True)\n",
              "        (1): GELU()\n",
              "        (2): Linear(in_features=384, out_features=384, bias=True)\n",
              "        (3): GELU()\n",
              "      )\n",
              "    )\n",
              "  )\n",
              "  (mlp_head): Sequential(\n",
              "    (0): LayerNorm((384,), eps=1e-05, elementwise_affine=True)\n",
              "    (1): Linear(in_features=384, out_features=10, bias=True)\n",
              "  )\n",
              ")"
            ]
          },
          "metadata": {},
          "execution_count": 11
        }
      ]
    },
    {
      "cell_type": "code",
      "source": [
        "correct = 0\n",
        "total = 0\n",
        "# since we're not training, we don't need to calculate the gradients for our outputs\n",
        "with torch.no_grad():\n",
        "    for data in testloader:\n",
        "        images, labels = data\n",
        "        images = images.cuda()\n",
        "        labels = labels.cuda()\n",
        "        # calculate outputs by running images through the network\n",
        "        outputs = model(images)\n",
        "        # the class with the highest energy is what we choose as prediction\n",
        "        _, predicted = torch.max(outputs.data, 1)\n",
        "        total += labels.size(0)\n",
        "        correct += (predicted == labels).sum().item()\n",
        "\n",
        "print(f'Accuracy of the network on the 10000 test images: {round(100*correct/total, 2)} %')"
      ],
      "metadata": {
        "colab": {
          "base_uri": "https://localhost:8080/"
        },
        "id": "_r67NI3B_88v",
        "outputId": "a71400f1-80c8-4c9a-9ff2-79808e2c2155"
      },
      "execution_count": 12,
      "outputs": [
        {
          "output_type": "stream",
          "name": "stdout",
          "text": [
            "Accuracy of the network on the 10000 test images: 90.61 %\n"
          ]
        }
      ]
    },
    {
      "cell_type": "code",
      "source": [
        "# prepare to count predictions for each class\n",
        "correct_pred = {classname: 0 for classname in classes}\n",
        "total_pred = {classname: 0 for classname in classes}\n",
        "\n",
        "# again no gradients needed\n",
        "with torch.no_grad():\n",
        "    for data in testloader:\n",
        "        images, labels = data\n",
        "        images = images.cuda()\n",
        "        labels = labels.cuda()\n",
        "        outputs = model(images)\n",
        "        _, predictions = torch.max(outputs, 1)\n",
        "        # collect the correct predictions for each class\n",
        "        for label, prediction in zip(labels, predictions):\n",
        "            if label == prediction:\n",
        "                correct_pred[classes[label]] += 1\n",
        "            total_pred[classes[label]] += 1\n",
        "\n",
        "\n",
        "# print accuracy for each class\n",
        "for classname, correct_count in correct_pred.items():\n",
        "    accuracy = 100 * float(correct_count) / total_pred[classname]\n",
        "    print(f'Accuracy for class: {classname:5s} is {accuracy:.1f} %')"
      ],
      "metadata": {
        "colab": {
          "base_uri": "https://localhost:8080/"
        },
        "id": "JwBt_dvzA4Y9",
        "outputId": "8d4bb469-767f-4e6f-bdd7-80594682bc9f"
      },
      "execution_count": 13,
      "outputs": [
        {
          "output_type": "stream",
          "name": "stdout",
          "text": [
            "Accuracy for class: plane is 93.1 %\n",
            "Accuracy for class: car   is 96.2 %\n",
            "Accuracy for class: bird  is 86.1 %\n",
            "Accuracy for class: cat   is 80.8 %\n",
            "Accuracy for class: deer  is 90.9 %\n",
            "Accuracy for class: dog   is 82.3 %\n",
            "Accuracy for class: frog  is 94.2 %\n",
            "Accuracy for class: horse is 93.6 %\n",
            "Accuracy for class: ship  is 95.4 %\n",
            "Accuracy for class: truck is 93.5 %\n"
          ]
        }
      ]
    }
  ]
}